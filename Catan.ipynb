{
 "metadata": {
  "name": ""
 },
 "nbformat": 3,
 "nbformat_minor": 0,
 "worksheets": [
  {
   "cells": [
    {
     "cell_type": "code",
     "collapsed": false,
     "input": [
      "board = [[0,0,1,0,1,0,0],[0,1,0,1,0,1,0],[0,1,0,1,0,1,0],[1,0,1,0,1,0,1],[1,0,1,0,1,0,1],[0,1,0,1,0,1,0],[0,1,0,1,0,1,0],[0,0,1,0,1,0,0]]\n",
      "\n",
      "from random import randrange\n",
      "class Player(object):\n",
      "    def __init__(self, name):\n",
      "        self.name = name\n",
      "        self.score = 0\n",
      "        self.wood = 0\n",
      "        self.brick = 0\n",
      "        self.grain = 0\n",
      "        self.sheep = 0\n",
      "        self.stone = 0 #put in in case we use it\n",
      "playercount = 0\n",
      "while playercount<2:\n",
      "    if playercount == 0:\n",
      "        print('Player 1, what is your name?')\n",
      "        name = input()\n",
      "        player1 = Player(name)\n",
      "    elif playercount == 1:\n",
      "        print('Player 2, what is your name?')\n",
      "        name = input()\n",
      "        player2 = Player(name)\n",
      "    playercount += 1\n",
      "gameOver = False\n",
      "turncount = 1\n",
      "while gameOver == False:\n",
      "    diceRoll = 0\n",
      "    #play the game\n",
      "    if turncount%playercount == 1:\n",
      "        print(\"It is {}'s turn!\".format(player1.name))\n",
      "        #enter code for player1 actions\n",
      "        diceRoll = randrange(1,7) + randrange(1,7)\n",
      "        #distribute resources\n",
      "    elif turncount%playercount == 0:\n",
      "        print(\"It is {}'s turn!\".format(player2.name))\n",
      "        #enter code for player2 actions\n",
      "        diceRoll = randrange(1,7) + randrange(1,7)\n",
      "    turncount += 1\n",
      "    if turncount == 6: #fake code to end program for me\n",
      "        gameOver=True\n",
      "        print(\"{} wins!\".format(player1.name))\n",
      "    #realcode\n",
      "    #if player1.score >= 10: #can lower this number for small board\n",
      "        #gameOver = True\n",
      "        #print(\"{} wins!\".format(player1.name))\n",
      "    #elif player2.score >=10:\n",
      "        #gameOver = True\n",
      "        #print(\"{} wins!\".format(player2.name))\n",
      "        \n",
      "        \n",
      "def playroad (y,x,y2,x2):\n",
      "    board[x-1][y-1] = 3\n",
      "    board[x2-1][y2-1] = 3\n",
      "def playbuilding (x,y):\n",
      "    board[x-1][y-1] = 4\n",
      "\n",
      "playroad (2,3,2,2)\n",
      "\n",
      "print(player1.name, player2.name)\n",
      "for i in board:\n",
      "    print (str(i))\n"
     ],
     "language": "python",
     "metadata": {},
     "outputs": [
      {
       "output_type": "stream",
       "stream": "stdout",
       "text": [
        "Player 1, what is your name?\n"
       ]
      },
      {
       "name": "stdout",
       "output_type": "stream",
       "stream": "stdout",
       "text": [
        "o\n"
       ]
      },
      {
       "output_type": "stream",
       "stream": "stdout",
       "text": [
        "Player 2, what is your name?\n"
       ]
      },
      {
       "name": "stdout",
       "output_type": "stream",
       "stream": "stdout",
       "text": [
        "k\n"
       ]
      },
      {
       "output_type": "stream",
       "stream": "stdout",
       "text": [
        "It is o's turn!\n",
        "It is k's turn!\n",
        "It is o's turn!\n",
        "It is k's turn!\n",
        "It is o's turn!\n",
        "o wins!\n",
        "o k\n",
        "[0, 0, 1, 0, 1, 0, 0]\n",
        "[0, 3, 0, 1, 0, 1, 0]\n",
        "[0, 3, 0, 1, 0, 1, 0]\n",
        "[1, 0, 1, 0, 1, 0, 1]\n",
        "[1, 0, 1, 0, 1, 0, 1]\n",
        "[0, 1, 0, 1, 0, 1, 0]\n",
        "[0, 1, 0, 1, 0, 1, 0]\n",
        "[0, 0, 1, 0, 1, 0, 0]\n"
       ]
      }
     ],
     "prompt_number": 12
    },
    {
     "cell_type": "code",
     "collapsed": false,
     "input": [],
     "language": "python",
     "metadata": {},
     "outputs": []
    }
   ],
   "metadata": {}
  }
 ]
}